{
 "cells": [
  {
   "cell_type": "code",
   "execution_count": null,
   "id": "5788da1a-e14b-4bae-a758-a066b7f3e7f8",
   "metadata": {},
   "outputs": [],
   "source": [
    "# 240708(월)"
   ]
  },
  {
   "cell_type": "markdown",
   "id": "178bf732-ef4c-44b7-be62-702dd321300c",
   "metadata": {},
   "source": [
    "# 학습목표\n",
    "- Flaks의 사용법 익히기\n",
    "- Flask로 웹서버 구축\n",
    "  - 웹 서버 구축\n",
    "  - HTML 문서 송수신\n",
    "  - 데이터 송수신 (라우팅, get, post)\n",
    "  - 이미지가 포함된 문서 송수신\n",
    "- 파이썬으로 DB연동 : cx_Oracle 라이브러리 활용"
   ]
  },
  {
   "cell_type": "markdown",
   "id": "a5551d69-9ede-4878-829a-3c33ef687332",
   "metadata": {},
   "source": [
    "# Flask 개요\n",
    "- 파이썬으로 구현된 웹 프레임워크\n",
    "  - 웹 서버를 구동\n",
    "  - 웹 페이지를 렌더링\n",
    "\n",
    "- Django : 파이썬으로 구현된 웹 프레임워크 -> 크기가 크고 어렵다 -> 쉽게 만든 버전 -> Flask, Bottle\n",
    "- Flask (동기 방식 : 프로세스를 하나씩 실행) -> 비동기 방식 -> Fast API"
   ]
  },
  {
   "cell_type": "markdown",
   "id": "ebca9246-ed42-4703-9cfe-22d916fb5ed7",
   "metadata": {},
   "source": [
    "# 다른 프레임워크\n",
    "- Spring : java 로 만들어진 웹 프레임워크\n",
    "- Node.js : JS로 만들어진 웹 프레임워크\n",
    "- PHP : C로 만들어진 웹 프레임워크\n",
    "- Android : java로 만들어진 앱 프레임워크\n",
    "- Kotlin : java/JS/C# 등이 섞여져 있는 앱 프레임워크 (네이티브 앱 프레임워크)\n",
    "- Flutter : 하이브리드 앱 프레임워크\n",
    "\n",
    "- 기타 언어\n",
    "    - C, C++, C#\n",
    "      Zig, Go, Rust\n"
   ]
  },
  {
   "cell_type": "markdown",
   "id": "15bef1c1-e7fb-478d-95f7-fd8f62427910",
   "metadata": {},
   "source": [
    "- Flask 설치"
   ]
  },
  {
   "cell_type": "code",
   "execution_count": 115,
   "id": "82da7b8c-6aa3-49a3-8fbe-1f761766040c",
   "metadata": {},
   "outputs": [
    {
     "name": "stdout",
     "output_type": "stream",
     "text": [
      "Requirement already satisfied: flask in c:\\users\\user\\anaconda3\\lib\\site-packages (2.2.5)\n",
      "Requirement already satisfied: Werkzeug>=2.2.2 in c:\\users\\user\\anaconda3\\lib\\site-packages (from flask) (2.2.3)\n",
      "Requirement already satisfied: Jinja2>=3.0 in c:\\users\\user\\anaconda3\\lib\\site-packages (from flask) (3.1.3)\n",
      "Requirement already satisfied: itsdangerous>=2.0 in c:\\users\\user\\anaconda3\\lib\\site-packages (from flask) (2.0.1)\n",
      "Requirement already satisfied: click>=8.0 in c:\\users\\user\\appdata\\roaming\\python\\python311\\site-packages (from flask) (8.1.7)\n",
      "Requirement already satisfied: colorama in c:\\users\\user\\anaconda3\\lib\\site-packages (from click>=8.0->flask) (0.4.6)\n",
      "Requirement already satisfied: MarkupSafe>=2.0 in c:\\users\\user\\anaconda3\\lib\\site-packages (from Jinja2>=3.0->flask) (2.1.3)\n"
     ]
    }
   ],
   "source": [
    "!pip install flask"
   ]
  },
  {
   "cell_type": "markdown",
   "id": "6ced6314-eef5-49aa-8717-0e1aad75ff97",
   "metadata": {},
   "source": [
    "- 웹 서버 구동하기\n",
    "  \n",
    "  - Flask(\\_\\_name\\_\\_) : 초기화\n",
    "  - route() : 라우팅 (접속 경로 설정)\n",
    "    - 클라이언트가 접속할 주소를 설정\n",
    "    - 클라이언트가 접속할 때 실행할 내용 (클라이언트로 전송되는 내용)\n",
    "  - run() : 서버 구동\n",
    "    - ip, port 설정\n",
    "    "
   ]
  },
  {
   "cell_type": "code",
   "execution_count": 34,
   "id": "6d755124-b8d3-439a-b949-66796c061e8b",
   "metadata": {},
   "outputs": [
    {
     "name": "stdout",
     "output_type": "stream",
     "text": [
      " * Serving Flask app '__main__'\n",
      " * Debug mode: off\n"
     ]
    },
    {
     "name": "stderr",
     "output_type": "stream",
     "text": [
      "WARNING: This is a development server. Do not use it in a production deployment. Use a production WSGI server instead.\n",
      " * Running on http://192.168.20.13:9000\n",
      "Press CTRL+C to quit\n"
     ]
    }
   ],
   "source": [
    "from flask import Flask\n",
    "\n",
    "# 초기화\n",
    "app = Flask(__name__) # 자: 프로토타입\n",
    "# 라우팅 설정\n",
    "# ip와 포트(도메인)으로 접속하는 경우\n",
    "@app.route(\"/\")\n",
    "def home() : \n",
    "    return \"안녕하세요 김자영입니다.\"\n",
    "\n",
    "# URL/page1\n",
    "@app.route(\"/page1\")\n",
    "def page1() : \n",
    "    return \"페이지1 입니다.\"\n",
    "\n",
    "# 서버 구동 (가장 먼저 실행)\n",
    "if __name__ == \"__main__\" : \n",
    "    app.run(host=\"192.168.20.13\", port=9000)\n"
   ]
  },
  {
   "cell_type": "code",
   "execution_count": null,
   "id": "3701db5b-f559-4ca3-9bf8-efa7a6b4293c",
   "metadata": {},
   "outputs": [],
   "source": [
    "#240708(2)"
   ]
  },
  {
   "cell_type": "markdown",
   "id": "1fa6ccba-2c54-43a6-873b-99a7d2b7e1dd",
   "metadata": {},
   "source": [
    "- 라우팅 주소(URL)에 값을 실어서 보내기\n",
    "  - URL/<변수명1> <변수명2>"
   ]
  },
  {
   "cell_type": "code",
   "execution_count": 57,
   "id": "16b924ac-ccbe-4858-ba74-01683ff6bd73",
   "metadata": {},
   "outputs": [
    {
     "name": "stdout",
     "output_type": "stream",
     "text": [
      " * Serving Flask app '__main__'\n",
      " * Debug mode: off\n"
     ]
    },
    {
     "name": "stderr",
     "output_type": "stream",
     "text": [
      "WARNING: This is a development server. Do not use it in a production deployment. Use a production WSGI server instead.\n",
      " * Running on http://192.168.20.13:9000\n",
      "Press CTRL+C to quit\n",
      "192.168.20.13 - - [08/Jul/2024 15:17:22] \"GET / HTTP/1.1\" 200 -\n",
      "192.168.20.13 - - [08/Jul/2024 15:17:24] \"GET / HTTP/1.1\" 200 -\n",
      "192.168.20.13 - - [08/Jul/2024 15:17:55] \"GET /login HTTP/1.1\" 404 -\n",
      "192.168.20.13 - - [08/Jul/2024 15:18:03] \"GET /login/test%201234 HTTP/1.1\" 200 -\n",
      "192.168.20.13 - - [08/Jul/2024 15:23:28] \"GET /login/test%20123445 HTTP/1.1\" 200 -\n",
      "192.168.20.13 - - [08/Jul/2024 15:23:42] \"GET /login/test%201234 HTTP/1.1\" 200 -\n"
     ]
    }
   ],
   "source": [
    "from flask import Flask\n",
    "app = Flask(__name__)\n",
    "\n",
    "@app.route(\"/\")\n",
    "def home():\n",
    "    return \"안녕하세요 홍길동입니다 ^^\"\n",
    "\n",
    "@app.route(\"/page1\")\n",
    "def page1():\n",
    "    return \"페이지 1입니니다\"\n",
    "\n",
    "@app.route(\"/login/<id> <pw>\")\n",
    "# 전송된 값은 함수에 받아주어야 한다.\n",
    "def login(id ,pw):\n",
    "    return f\"아이디 : {id}, 암호 : {pw}\"\n",
    "    \n",
    "if __name__ == \"__main__\" : \n",
    " app.run(host=\"192.168.20.13\", port=9000)"
   ]
  },
  {
   "cell_type": "markdown",
   "id": "7e98277e-8b12-42ef-ab4e-a8a806e010bb",
   "metadata": {},
   "source": [
    "- html 문서 전송\n",
    "    - render_template(파일명) : html 문서를 렌더링해서 클라이언트로 전송\n",
    "    - html 문서는 templates 폴더에 저장해야 한다.\n"
   ]
  },
  {
   "cell_type": "code",
   "execution_count": 83,
   "id": "5334deb8-b7ac-47a2-a219-d985d28cccf4",
   "metadata": {},
   "outputs": [
    {
     "name": "stdout",
     "output_type": "stream",
     "text": [
      "에러\n"
     ]
    }
   ],
   "source": [
    "import os\n",
    "# templates 폴더 생성\n",
    "dir_name = \"./templates\"\n",
    "\n",
    "# 해당 폴더가 없다면 폴더를 생성\n",
    "if not os.path.exists(dir_name) :\n",
    "    os.mkdir(dir_name)"
   ]
  },
  {
   "cell_type": "markdown",
   "id": "0d840499-764c-4ac2-8c3f-d6e6c956feed",
   "metadata": {},
   "source": [
    "- %%writefile 파일명 : 명령 다음 줄부터의 내용을 해당 파일에 저장\n",
    "  - 주의점 : 해당 명령은 반드시 첫 번째줄에 위치해야 한다."
   ]
  },
  {
   "cell_type": "code",
   "execution_count": 85,
   "id": "72195180-792f-4988-bd79-394044222684",
   "metadata": {},
   "outputs": [
    {
     "name": "stdout",
     "output_type": "stream",
     "text": [
      "Writing ./templates/index.html\n"
     ]
    }
   ],
   "source": [
    "%%writefile ./templates/index.html\n",
    "<html>\n",
    "<body>\n",
    "<h1><font color=\"red\">홍길동</font>님 환영합니다</h1>\n",
    "</body>\n",
    "</html>"
   ]
  },
  {
   "cell_type": "code",
   "execution_count": 104,
   "id": "4a31dc37-a867-418f-b3e5-f5590ccb419f",
   "metadata": {},
   "outputs": [
    {
     "name": "stdout",
     "output_type": "stream",
     "text": [
      " * Serving Flask app '__main__'\n",
      " * Debug mode: off\n"
     ]
    },
    {
     "name": "stderr",
     "output_type": "stream",
     "text": [
      "WARNING: This is a development server. Do not use it in a production deployment. Use a production WSGI server instead.\n",
      " * Running on http://192.168.20.13:9000\n",
      "Press CTRL+C to quit\n"
     ]
    }
   ],
   "source": [
    "from flask import Flask, render_template\n",
    "app = Flask(__name__)\n",
    "\n",
    "@app.route(\"/\")\n",
    "def home():\n",
    "    return render_template(\"index.html\")\n",
    "\n",
    "if __name__ == \"__main__\" : \n",
    " app.run(host=\"192.168.20.13\", port=9000)"
   ]
  },
  {
   "cell_type": "markdown",
   "id": "57d57a42-7034-4225-9261-2d93d5043de8",
   "metadata": {},
   "source": [
    "- get/post 방식으로 값을 전송"
   ]
  },
  {
   "cell_type": "code",
   "execution_count": 22,
   "id": "50db5b24-6bed-444b-9460-7da773fad381",
   "metadata": {},
   "outputs": [
    {
     "ename": "SyntaxError",
     "evalue": "invalid syntax (3747785295.py, line 5)",
     "output_type": "error",
     "traceback": [
      "\u001b[1;36m  Cell \u001b[1;32mIn[22], line 5\u001b[1;36m\u001b[0m\n\u001b[1;33m    <html>\u001b[0m\n\u001b[1;37m    ^\u001b[0m\n\u001b[1;31mSyntaxError\u001b[0m\u001b[1;31m:\u001b[0m invalid syntax\n"
     ]
    }
   ],
   "source": [
    "## 자: get방식 html\n",
    "\n",
    "%%writefile ./templates/login_get.html\n",
    "\n",
    "<html>\n",
    "<body>\n",
    "<form method=\"get\" action=\"/login_ok\">\n",
    "<table width=400>\n",
    "<tr><td align=\"center\" width=100>아이디</td>\n",
    "<td><input type=\"text\" name=\"id\" value=\"\"></td></tr>\n",
    "\n",
    "<tr><td align=\"center\" width=100>패스워드</td>\n",
    "<td><input type=\"password\" name=\"pw\" value=\"\"></td></tr>\n",
    "\n",
    "\n",
    "<tr><td colspan=2 align=\"center\"><input type=\"submit\" value=\"   로그인   \"</td></tr>\n",
    "\n",
    "</table>\n",
    "\n",
    "</form>\n",
    "</body>\n",
    "</html>\n"
   ]
  },
  {
   "cell_type": "markdown",
   "id": "f96ea314-7d0f-433a-a6df-ceadcc773049",
   "metadata": {},
   "source": [
    "- args : 실행명령 뒤에 따라오는 파라미터를 읽음\n",
    "- get 방식으로 전송된 데이터는 파이썬에서 딕셔너리로 인식\n",
    "  - 변수 -> 키, 값 -> value로 인식"
   ]
  },
  {
   "cell_type": "code",
   "execution_count": 12,
   "id": "dab7179e-ebf9-4b17-990f-1165b3669368",
   "metadata": {},
   "outputs": [
    {
     "name": "stdout",
     "output_type": "stream",
     "text": [
      "test\n",
      "test\n",
      "None\n"
     ]
    }
   ],
   "source": [
    "dic1 = {\"id\" : \"test\", \"pw\" : \"1234\"}\n",
    "print(dic1[\"id\"]) # test\n",
    "# print(dic1[\"name\"]) # 자:값이 없을 때 에러남\n",
    "print(dic1.get(\"id\")) # test\n",
    "print(dic1.get(\"name\")) # None"
   ]
  },
  {
   "cell_type": "code",
   "execution_count": 29,
   "id": "8a25eb61-7d01-49ca-95bb-37b5f7fb6fb3",
   "metadata": {},
   "outputs": [
    {
     "name": "stdout",
     "output_type": "stream",
     "text": [
      " * Serving Flask app '__main__'\n",
      " * Debug mode: off\n"
     ]
    },
    {
     "name": "stderr",
     "output_type": "stream",
     "text": [
      "WARNING: This is a development server. Do not use it in a production deployment. Use a production WSGI server instead.\n",
      " * Running on http://192.168.20.13:9000\n",
      "Press CTRL+C to quit\n",
      "192.168.20.13 - - [08/Jul/2024 16:50:31] \"GET / HTTP/1.1\" 200 -\n",
      "192.168.20.13 - - [08/Jul/2024 16:50:33] \"GET /login HTTP/1.1\" 200 -\n",
      "192.168.20.13 - - [08/Jul/2024 16:50:38] \"GET /login_ok?id=test&pw=1234 HTTP/1.1\" 200 -\n"
     ]
    }
   ],
   "source": [
    "## 자: get방식 Flask서버\n",
    "\n",
    "from flask import Flask, render_template, request\n",
    "app = Flask(__name__)\n",
    "\n",
    "@app.route(\"/\")\n",
    "def home():\n",
    "    return render_template(\"index.html\")\n",
    "\n",
    "@app.route(\"/login\")\n",
    "def login():\n",
    "    return render_template(\"login_get.html\")\n",
    "    \n",
    "# methods : GET 또는 POST를 설정\n",
    "@app.route(\"/login_ok\", methods=[\"GET\"])\n",
    "def login_ok():\n",
    "    id_val = request.args.get(\"id\") # 자:파마리터를 읽는건데 파이썬은 딕셔너리로 인식\n",
    "    pw_val = request.args.get(\"pw\")\n",
    "    return f\"id : {id_val}, pw : {pw_val}\"\n",
    "\n",
    "if __name__ == \"__main__\" : \n",
    " app.run(host=\"192.168.20.13\", port=9000)"
   ]
  },
  {
   "cell_type": "code",
   "execution_count": 187,
   "id": "fd5eb310-1b6d-4fa1-b7ec-4900b4276fcc",
   "metadata": {},
   "outputs": [
    {
     "ename": "SyntaxError",
     "evalue": "invalid syntax (2700699639.py, line 4)",
     "output_type": "error",
     "traceback": [
      "\u001b[1;36m  Cell \u001b[1;32mIn[187], line 4\u001b[1;36m\u001b[0m\n\u001b[1;33m    <html>\u001b[0m\n\u001b[1;37m    ^\u001b[0m\n\u001b[1;31mSyntaxError\u001b[0m\u001b[1;31m:\u001b[0m invalid syntax\n"
     ]
    }
   ],
   "source": [
    "## 자: post방식 html\n",
    "\n",
    "%%writefile ./templates/login_post.html\n",
    "<html>\n",
    "<body>\n",
    "<form method=\"post\" action=\"/login_ok\">\n",
    "<table>\n",
    "<tr><td align=\"center\" width=100>아이디</td>\n",
    "<td><input type=\"text\" name=\"id\" value=\"\"></td></tr>\n",
    "\n",
    "<tr><td align=\"center\" width=100>패스워드</td>\n",
    "<td><input type=\"password\" name=\"pw\" value=\"\"></td></tr>\n",
    "\n",
    "\n",
    "<tr><td colspan=2 align=\"center\"><input type=\"submit\" value=\"   로그인   \"</td></tr>\n",
    "\n",
    "</table>\n",
    "\n",
    "</form>\n",
    "</body>\n",
    "</html>\n"
   ]
  },
  {
   "cell_type": "code",
   "execution_count": 170,
   "id": "82edc5b6-e458-4cfc-8cf0-0653e44c9c7c",
   "metadata": {},
   "outputs": [
    {
     "name": "stdout",
     "output_type": "stream",
     "text": [
      " * Serving Flask app '__main__'\n",
      " * Debug mode: off\n"
     ]
    },
    {
     "name": "stderr",
     "output_type": "stream",
     "text": [
      "WARNING: This is a development server. Do not use it in a production deployment. Use a production WSGI server instead.\n",
      " * Running on http://192.168.20.13:9000\n",
      "Press CTRL+C to quit\n",
      "192.168.20.13 - - [08/Jul/2024 16:40:19] \"GET / HTTP/1.1\" 200 -\n",
      "192.168.20.13 - - [08/Jul/2024 16:40:21] \"GET /login HTTP/1.1\" 200 -\n",
      "192.168.20.13 - - [08/Jul/2024 16:40:22] \"GET /got HTTP/1.1\" 404 -\n",
      "192.168.20.13 - - [08/Jul/2024 16:40:24] \"GET /login HTTP/1.1\" 200 -\n",
      "192.168.20.13 - - [08/Jul/2024 16:40:27] \"POST /login_ok HTTP/1.1\" 200 -\n"
     ]
    }
   ],
   "source": [
    "## 자: post방식 Flask서버\n",
    "\n",
    "from flask import Flask, render_template, request\n",
    "app = Flask(__name__)\n",
    "\n",
    "@app.route(\"/\")\n",
    "def home():\n",
    "    return render_template(\"index.html\")\n",
    "\n",
    "@app.route(\"/login\")\n",
    "def login():\n",
    "    return render_template(\"login_post.html\")\n",
    "    \n",
    "# methods : GET 또는 POST를 설정\n",
    "@app.route(\"/login_ok\", methods=[\"POST\"])\n",
    "def login_ok():\n",
    "    id_val = request.form[\"id\"] # 자:post 방식은 딕셔너리 방식으로 [] 키 값 가져옴\n",
    "    pw_val = request.form[\"pw\"]\n",
    "    return f\"id : {id_val}, pw : {pw_val}\"\n",
    "\n",
    "if __name__ == \"__main__\" : \n",
    " app.run(host=\"192.168.20.13\", port=9000)"
   ]
  },
  {
   "cell_type": "markdown",
   "id": "4d4bea15-cc17-4c96-afb2-72afa9564ec0",
   "metadata": {},
   "source": [
    "- 이미지가 포함된 HTML 문서 저장\n",
    "  - 리소스(이미지, 소리, 영상 등) 는 static 폴더에 저장"
   ]
  },
  {
   "cell_type": "code",
   "execution_count": 31,
   "id": "d98285f4-d55e-4295-9f86-a876c435e12b",
   "metadata": {},
   "outputs": [],
   "source": [
    "import os \n",
    "dir_name = \"./static\"\n",
    "\n",
    "# 해당 폴더가 없다면 폴더를 생성\n",
    "if not os.path.exists(dir_name) : \n",
    "    os.mkdir(dir_name)"
   ]
  },
  {
   "cell_type": "code",
   "execution_count": 1,
   "id": "e24f4175-cf63-4b82-a108-c55a26946244",
   "metadata": {},
   "outputs": [],
   "source": [
    "# 240709(1)"
   ]
  },
  {
   "cell_type": "markdown",
   "id": "8febfb6f-66c6-4892-ac37-4ec2ef94adeb",
   "metadata": {},
   "source": [
    "%%writefile ./templates/main.html\n",
    "<html>\n",
    "<body>\n",
    "<img src=\"./static/ch.jpg\">\n",
    "</body>\n",
    "</html>\n"
   ]
  },
  {
   "cell_type": "code",
   "execution_count": 19,
   "id": "5c0bfba0-73c1-4ba2-976b-a47528488337",
   "metadata": {},
   "outputs": [
    {
     "name": "stdout",
     "output_type": "stream",
     "text": [
      " * Serving Flask app '__main__'\n",
      " * Debug mode: off\n"
     ]
    },
    {
     "name": "stderr",
     "output_type": "stream",
     "text": [
      "WARNING: This is a development server. Do not use it in a production deployment. Use a production WSGI server instead.\n",
      " * Running on http://192.168.21.216:9000\n",
      "Press CTRL+C to quit\n",
      "192.168.21.216 - - [09/Jul/2024 14:22:08] \"GET / HTTP/1.1\" 200 -\n",
      "192.168.21.216 - - [09/Jul/2024 14:22:08] \"GET /static/ch.jpg HTTP/1.1\" 200 -\n",
      "192.168.21.216 - - [09/Jul/2024 14:22:08] \"GET /favicon.ico HTTP/1.1\" 404 -\n"
     ]
    }
   ],
   "source": [
    "from flask import Flask, render_template\n",
    "\n",
    "app = Flask(__name__)\n",
    "\n",
    "@app.route(\"/\")\n",
    "def home() :\n",
    "    return render_template(\"main.html\")\n",
    "\n",
    "if __name__ == \"__main__\":\n",
    "    app.run(host= \"192.168.21.216\", port=9000)"
   ]
  },
  {
   "cell_type": "markdown",
   "id": "4e2875ab-c2b9-4182-8caf-d08bad46d4b5",
   "metadata": {},
   "source": [
    "- Jinja Template\n",
    "  - HTML 문서에서 파이썬 코드를 작성할 수 있게 해주는 템플릿\n",
    "  - JinjaTemplate12 출시\n",
    "  - {변수, 객체 선언}, {{일반 코드}}을 이용해서 코드를 작성\n",
    "\n",
    "  - JSP : HTML 문서에 Java 코드를 작성할 수 있게 해줌\n",
    "  - PHP : HTML 문서에 C코드를 작성할 수 있게 해줌"
   ]
  },
  {
   "cell_type": "code",
   "execution_count": 28,
   "id": "887a4cd3-948c-49ea-bf2b-732092958c64",
   "metadata": {},
   "outputs": [
    {
     "name": "stdout",
     "output_type": "stream",
     "text": [
      "Overwriting ./templates/main2.html\n"
     ]
    }
   ],
   "source": [
    "# 자 : Jinja Template 로 html 만들기\n",
    "\n",
    "%%writefile ./templates/main2.html\n",
    "<html>\n",
    "<body>\n",
    "<!-- url_for : 현재 접속중인 서버 주소 -->\n",
    "<img src={{ url_for(\"static\", filename=\"ch.jpg\") }}>\n",
    "</body>\n",
    "</html>"
   ]
  },
  {
   "cell_type": "code",
   "execution_count": 33,
   "id": "3b6e1915-0e30-41ac-8ec1-3c1eb82aec52",
   "metadata": {},
   "outputs": [
    {
     "name": "stdout",
     "output_type": "stream",
     "text": [
      " * Serving Flask app '__main__'\n",
      " * Debug mode: off\n"
     ]
    },
    {
     "name": "stderr",
     "output_type": "stream",
     "text": [
      "WARNING: This is a development server. Do not use it in a production deployment. Use a production WSGI server instead.\n",
      " * Running on http://192.168.21.216:9000\n",
      "Press CTRL+C to quit\n",
      "192.168.21.216 - - [09/Jul/2024 14:37:42] \"GET / HTTP/1.1\" 200 -\n",
      "192.168.21.216 - - [09/Jul/2024 14:37:42] \"GET /static/ch.jpg HTTP/1.1\" 304 -\n"
     ]
    }
   ],
   "source": [
    "# 자 : Jinja Template html 파일로 Flask 만들기\n",
    "from flask import Flask, render_template\n",
    "\n",
    "app = Flask(__name__)\n",
    "\n",
    "@app.route(\"/\")\n",
    "def home() :\n",
    "    return render_template(\"main2.html\")\n",
    "\n",
    "if __name__ == \"__main__\":\n",
    "    app.run(host= \"192.168.21.216\", port=9000)"
   ]
  },
  {
   "cell_type": "markdown",
   "id": "01cb40b2-4916-46c3-bd18-c7958fe0ce09",
   "metadata": {},
   "source": [
    "# 파이썬 DB 연동하기\n",
    "- cx_Oracle 라이브러리 사용\n",
    "- 데이터베이스 연동\n",
    "    - 연결객체 : DB 연결 (아이디, 패스워드, IP, 포트, DB명)\n",
    "    - 커서객체 : 연결객체에서 생성, SQL문을 DB로 보내서 실행하고 SQL문의 실행 결과를 받아온다      "
   ]
  },
  {
   "cell_type": "code",
   "execution_count": 40,
   "id": "88c3cbed-1591-4eb6-accb-5e831351962e",
   "metadata": {},
   "outputs": [
    {
     "name": "stdout",
     "output_type": "stream",
     "text": [
      "Collecting cx_Oracle\n",
      "  Using cached cx_Oracle-8.3.0.tar.gz (363 kB)\n",
      "  Installing build dependencies: started\n",
      "  Installing build dependencies: finished with status 'done'\n",
      "  Getting requirements to build wheel: started\n",
      "  Getting requirements to build wheel: finished with status 'done'\n",
      "  Preparing metadata (pyproject.toml): started\n",
      "  Preparing metadata (pyproject.toml): finished with status 'done'\n",
      "Building wheels for collected packages: cx_Oracle\n",
      "  Building wheel for cx_Oracle (pyproject.toml): started\n",
      "  Building wheel for cx_Oracle (pyproject.toml): finished with status 'done'\n",
      "  Created wheel for cx_Oracle: filename=cx_Oracle-8.3.0-cp311-cp311-win_amd64.whl size=223544 sha256=f3f8682b4c44df103f35bbcd0b86fc03b10f2d4aa2c3e9ea26084f1b8bfa653e\n",
      "  Stored in directory: c:\\users\\user\\appdata\\local\\pip\\cache\\wheels\\e0\\41\\f9\\63e9c4d1ec7b2e8faffc1d6f3219c2e168c306b042d77e2b6f\n",
      "Successfully built cx_Oracle\n",
      "Installing collected packages: cx_Oracle\n",
      "Successfully installed cx_Oracle-8.3.0\n"
     ]
    }
   ],
   "source": [
    "!pip install cx_Oracle"
   ]
  },
  {
   "cell_type": "code",
   "execution_count": 42,
   "id": "9fdb8de4-e1fe-4009-b8ce-297352cf9396",
   "metadata": {},
   "outputs": [],
   "source": [
    "#240709(2)"
   ]
  },
  {
   "cell_type": "markdown",
   "id": "61710d63-6cf8-4110-8cf9-ae07509c0061",
   "metadata": {},
   "source": [
    "- 연결객체 생성"
   ]
  },
  {
   "cell_type": "code",
   "execution_count": 51,
   "id": "0427eaeb-6ece-43d2-8b2e-258f1a3c2390",
   "metadata": {},
   "outputs": [
    {
     "name": "stdout",
     "output_type": "stream",
     "text": [
      "DB 연결 성공\n"
     ]
    }
   ],
   "source": [
    "import cx_Oracle\n",
    "\n",
    "id_val = \"hr\"\n",
    "pw_val = \"12345\"\n",
    "ip_port_db = \"localhost:1521/xe\"\n",
    "\n",
    "\n",
    "# 예외처리 : 외부 환경에 의해서 발생하는 오류를 처리하기 위한 루틴\n",
    "# try~except~(else)~(finally)\n",
    "try:\n",
    "    conn = cx_Oracle.connect(id_val, pw_val, ip_port_db)#자: 커넥션 객체\n",
    "    print(\"DB 연결 성공\") # 자: 연결 잘되면 프린트문 잘 나올 것 \n",
    "except ex_Oracle.DatabaseError as e:\n",
    "    print(e)\n"
   ]
  },
  {
   "cell_type": "markdown",
   "id": "638934ac-82f8-4633-9903-e75bfa2c4686",
   "metadata": {},
   "source": [
    "- 커서 객체"
   ]
  },
  {
   "cell_type": "code",
   "execution_count": 54,
   "id": "854f2fa1-47ef-4a46-a532-f6ced38cb0cc",
   "metadata": {},
   "outputs": [],
   "source": [
    "cur = conn.cursor()"
   ]
  },
  {
   "cell_type": "markdown",
   "id": "5c2a4de4-51e9-47f1-8aa0-30768953740b",
   "metadata": {},
   "source": [
    "- 쿼리문 실행 구조\n",
    "  - 데이터의 내용이 변경되는 SQL문( create table, drop table, insert into, update , delete 등)\n",
    "      - SQL문을 실행한 후에 commit()을 해주어야 한다.\n",
    "    \n",
    "  - 데이터의 내용이 변경되지 않는 SQL문 (select)\n",
    "    - 반환값을 받아와야 한다. (cursor 객체를 이용해서)"
   ]
  },
  {
   "cell_type": "markdown",
   "id": "97abd04b-e561-4105-946b-a69781d32fbf",
   "metadata": {},
   "source": [
    "- 테이블 생성"
   ]
  },
  {
   "cell_type": "code",
   "execution_count": 71,
   "id": "858ff481-da03-4aad-a53f-25cd6792ab85",
   "metadata": {},
   "outputs": [
    {
     "name": "stdout",
     "output_type": "stream",
     "text": [
      "테이블 생성 완료\n"
     ]
    }
   ],
   "source": [
    "sql = \"\"\"create table member_tbl(\n",
    "    code varchar(10) primary key,\n",
    "    name varchar(10) not null,\n",
    "    age integer not null,\n",
    "    id_val varchar(10) not null,\n",
    "    pw_val varchar(10) not null)\"\"\"\n",
    "\n",
    "try : \n",
    "    # execute() : SQL문을 데이터베이스로 전송해서 실행\n",
    "    cur.execute(sql)\n",
    "    print(\"테이블 생성 완료\")\n",
    "    conn.commit()\n",
    "except cx_Oracle.DatabaseError as e:\n",
    "    print(e)"
   ]
  },
  {
   "cell_type": "markdown",
   "id": "ac920cbb-7696-40da-aaa3-9b2bec790b12",
   "metadata": {},
   "source": [
    "- 테이블에 데이터 저장"
   ]
  },
  {
   "cell_type": "code",
   "execution_count": 93,
   "id": "554607ed-a499-4039-b4ae-6ae794be7468",
   "metadata": {},
   "outputs": [
    {
     "name": "stdout",
     "output_type": "stream",
     "text": [
      "테이블 저장 완료\n"
     ]
    }
   ],
   "source": [
    "sql = \"insert into member_tbl values ('A001', '홍길동', 30, 'test', '1234')\"\n",
    "\n",
    "try : \n",
    "    # execute() : SQL문을 데이터베이스로 전송해서 실행\n",
    "    cur.execute(sql)\n",
    "    print(\"테이블 저장 완료\")\n",
    "    conn.commit()\n",
    "except cx_Oracle.DatabaseError as e:\n",
    "    print(e)"
   ]
  },
  {
   "cell_type": "markdown",
   "id": "4b9acbdd-42c3-47db-b41b-16a2ab249ff0",
   "metadata": {},
   "source": [
    "- 데이터베이스 내용 가져오기\n",
    "  - fetchall() : 복수의 데이터를 가져온다 (튜플로 된 데이터를 리스트로 만들어서 가져옴)\n",
    "  - fetchone() : 하나의 데이터만 가져온다 (튜플로 구성)\n"
   ]
  },
  {
   "cell_type": "code",
   "execution_count": 83,
   "id": "4148c74b-0ec1-4d54-a510-e6bd91f34dae",
   "metadata": {},
   "outputs": [
    {
     "name": "stdout",
     "output_type": "stream",
     "text": [
      "테이블 검색 완료\n"
     ]
    }
   ],
   "source": [
    "# 자: fetchall()로 가져오기(여러개)\n",
    "\n",
    "sql = \"select * from member_tbl\"\n",
    "\n",
    "try:\n",
    "    cur.execute(sql)\n",
    "    rs = cur.fetchall()\n",
    "    print(\"테이블 검색 완료\")\n",
    "except cx_Oracle.DatabaseError as e:\n",
    "    print(e)"
   ]
  },
  {
   "cell_type": "code",
   "execution_count": 85,
   "id": "4305e059-9c9a-4aff-bf1b-731da5d232b4",
   "metadata": {},
   "outputs": [
    {
     "data": {
      "text/plain": [
       "[('A001', '홍길동', 30, 'test', '1234')]"
      ]
     },
     "execution_count": 85,
     "metadata": {},
     "output_type": "execute_result"
    }
   ],
   "source": [
    "rs # [('A001', '홍길동', 30, 'test', '1234')]\n"
   ]
  },
  {
   "cell_type": "code",
   "execution_count": 89,
   "id": "7e1e46ef-fb6f-43b8-a556-69f5d6e6c7d5",
   "metadata": {},
   "outputs": [
    {
     "name": "stdout",
     "output_type": "stream",
     "text": [
      "테이블 검색 완료\n"
     ]
    },
    {
     "data": {
      "text/plain": [
       "('A001', '홍길동', 30, 'test', '1234')"
      ]
     },
     "execution_count": 89,
     "metadata": {},
     "output_type": "execute_result"
    }
   ],
   "source": [
    "# fetchone()\n",
    "sql = \"select * from member_tbl\"\n",
    "\n",
    "try:\n",
    "    cur.execute(sql)\n",
    "    rs = cur.fetchone()\n",
    "    print(\"테이블 검색 완료\")\n",
    "except cx_Oracle.DatabaseError as e:\n",
    "    print(e)\n",
    "\n",
    "rs # ('A001', '홍길동', 30, 'test', '1234')"
   ]
  },
  {
   "cell_type": "code",
   "execution_count": 91,
   "id": "680cdaf0-834b-4f9a-a2d2-7fba7525c81d",
   "metadata": {},
   "outputs": [
    {
     "name": "stdout",
     "output_type": "stream",
     "text": [
      "테이블 삭제 완료\n"
     ]
    }
   ],
   "source": [
    "# 실습1\n",
    "# 자: 삭제 delete\n",
    "\n",
    "sql = \"delete member_tbl where code='A001'\"\n",
    "\n",
    "try : \n",
    "    # execute() : SQL문을 데이터베이스로 전송해서 실행\n",
    "    cur.execute(sql)\n",
    "    print(\"테이블 삭제 완료\")\n",
    "    conn.commit()\n",
    "except cx_Oracle.DatabaseError as e:\n",
    "    print(e)"
   ]
  },
  {
   "cell_type": "code",
   "execution_count": 97,
   "id": "877b8647-abf5-4717-88a9-a462834b7196",
   "metadata": {},
   "outputs": [
    {
     "name": "stdout",
     "output_type": "stream",
     "text": [
      "테이블 업데이트 완료\n"
     ]
    }
   ],
   "source": [
    "# 실습2\n",
    "# 자: 업데이트 update\n",
    "\n",
    "sql = \"update member_tbl set name= '김길동' where code='A001'\"\n",
    "\n",
    "try : \n",
    "    # execute() : SQL문을 데이터베이스로 전송해서 실행\n",
    "    cur.execute(sql)\n",
    "    print(\"테이블 업데이트 완료\")\n",
    "    conn.commit()\n",
    "except cx_Oracle.DatabaseError as e:\n",
    "    print(e)"
   ]
  },
  {
   "cell_type": "code",
   "execution_count": 99,
   "id": "7996d59f-b3bd-4037-a07e-b6ae1c1e7fb8",
   "metadata": {},
   "outputs": [],
   "source": [
    "# 240709(3)"
   ]
  },
  {
   "cell_type": "markdown",
   "id": "3218922c-a7fd-45da-b601-92ffea0169d8",
   "metadata": {},
   "source": [
    "# Login 기능 만들기"
   ]
  },
  {
   "cell_type": "markdown",
   "id": "d4f1115e-2a30-408e-bb72-7e3d8a904f86",
   "metadata": {},
   "source": [
    "- DB관리 모듈 만들기\n"
   ]
  },
  {
   "cell_type": "code",
   "execution_count": 143,
   "id": "cbae25e2-6009-4ef6-9ace-09eb94e0b232",
   "metadata": {},
   "outputs": [
    {
     "name": "stdout",
     "output_type": "stream",
     "text": [
      "Overwriting DB_Manage.py\n"
     ]
    }
   ],
   "source": [
    "%%writefile DB_Manage.py\n",
    "import cx_Oracle\n",
    "\n",
    "def db_conn() : \n",
    "    try :\n",
    "        conn = cx_Oracle.connect(\"hr\", \"12345\", \"localhost:1521/xe\") #자: connect 객체 생성\n",
    "        cur = conn.cursor() #자: 커서객체 생성\n",
    "        print(\"DB 연결 성공\")\n",
    "        return conn, cur\n",
    "    except cx_Oracle.DatabaseError as e:\n",
    "        print(e)\n",
    "\n",
    "# 자: 연결 해제\n",
    "def db_disconn() : \n",
    "    cur.close # 자:cursor객체는 connect 연결 객체에 있으니까 먼저 해제\n",
    "    conn.close # 자:cursor 객체 연결해제 후 connect 객체 연결 해제\n",
    "    print(\"DB 연결 종료\")\n",
    "\n",
    "#자 : select 문\n",
    "def db_search(cur, id_val, pw_val):\n",
    "    sql = f\"select code, name, age from member_tbl where id_val='{id_val}' and pw_val='{pw_val}'\"\n",
    "    \n",
    "    print(sql) #자: 확인\n",
    "\n",
    "    try : \n",
    "        cur.execute(sql)\n",
    "        print(\"데이터 검색 완료\")\n",
    "        return cur.fetchone() # 자: 1개 행 검색\n",
    "    except cx_Oracle.DatabaseError as e:\n",
    "        print(e)"
   ]
  },
  {
   "cell_type": "code",
   "execution_count": null,
   "id": "fff89461-86cc-4543-9e25-5eeec36d9401",
   "metadata": {},
   "outputs": [
    {
     "name": "stdout",
     "output_type": "stream",
     "text": [
      " * Serving Flask app '__main__'\n",
      " * Debug mode: off\n"
     ]
    },
    {
     "name": "stderr",
     "output_type": "stream",
     "text": [
      "WARNING: This is a development server. Do not use it in a production deployment. Use a production WSGI server instead.\n",
      " * Running on http://127.0.0.1:9000\n",
      "Press CTRL+C to quit\n",
      "127.0.0.1 - - [09/Jul/2024 16:39:23] \"GET / HTTP/1.1\" 200 -\n",
      "[2024-07-09 16:39:26,049] ERROR in app: Exception on /login_ok [POST]\n",
      "Traceback (most recent call last):\n",
      "  File \"C:\\Users\\USER\\anaconda3\\Lib\\site-packages\\flask\\app.py\", line 2529, in wsgi_app\n",
      "    response = self.full_dispatch_request()\n",
      "               ^^^^^^^^^^^^^^^^^^^^^^^^^^^^\n",
      "  File \"C:\\Users\\USER\\anaconda3\\Lib\\site-packages\\flask\\app.py\", line 1825, in full_dispatch_request\n",
      "    rv = self.handle_user_exception(e)\n",
      "         ^^^^^^^^^^^^^^^^^^^^^^^^^^^^^\n",
      "  File \"C:\\Users\\USER\\anaconda3\\Lib\\site-packages\\flask\\app.py\", line 1823, in full_dispatch_request\n",
      "    rv = self.dispatch_request()\n",
      "         ^^^^^^^^^^^^^^^^^^^^^^^\n",
      "  File \"C:\\Users\\USER\\anaconda3\\Lib\\site-packages\\flask\\app.py\", line 1799, in dispatch_request\n",
      "    return self.ensure_sync(self.view_functions[rule.endpoint])(**view_args)\n",
      "           ^^^^^^^^^^^^^^^^^^^^^^^^^^^^^^^^^^^^^^^^^^^^^^^^^^^^^^^^^^^^^^^^^\n",
      "  File \"C:\\Users\\USER\\AppData\\Local\\Temp\\ipykernel_3568\\24772058.py\", line 19, in login_ok\n",
      "    db_disconn(conn, cur)\n",
      "TypeError: db_disconn() takes 0 positional arguments but 2 were given\n",
      "127.0.0.1 - - [09/Jul/2024 16:39:26] \"POST /login_ok HTTP/1.1\" 500 -\n"
     ]
    },
    {
     "name": "stdout",
     "output_type": "stream",
     "text": [
      "DB 연결 성공\n",
      "select code, name, age from member_tbl where id_val='1111' and pw_val='1111'\n",
      "데이터 검색 완료\n"
     ]
    },
    {
     "name": "stderr",
     "output_type": "stream",
     "text": [
      "[2024-07-09 16:39:32,611] ERROR in app: Exception on /login_ok [POST]\n",
      "Traceback (most recent call last):\n",
      "  File \"C:\\Users\\USER\\anaconda3\\Lib\\site-packages\\flask\\app.py\", line 2529, in wsgi_app\n",
      "    response = self.full_dispatch_request()\n",
      "               ^^^^^^^^^^^^^^^^^^^^^^^^^^^^\n",
      "  File \"C:\\Users\\USER\\anaconda3\\Lib\\site-packages\\flask\\app.py\", line 1825, in full_dispatch_request\n",
      "    rv = self.handle_user_exception(e)\n",
      "         ^^^^^^^^^^^^^^^^^^^^^^^^^^^^^\n",
      "  File \"C:\\Users\\USER\\anaconda3\\Lib\\site-packages\\flask\\app.py\", line 1823, in full_dispatch_request\n",
      "    rv = self.dispatch_request()\n",
      "         ^^^^^^^^^^^^^^^^^^^^^^^\n",
      "  File \"C:\\Users\\USER\\anaconda3\\Lib\\site-packages\\flask\\app.py\", line 1799, in dispatch_request\n",
      "    return self.ensure_sync(self.view_functions[rule.endpoint])(**view_args)\n",
      "           ^^^^^^^^^^^^^^^^^^^^^^^^^^^^^^^^^^^^^^^^^^^^^^^^^^^^^^^^^^^^^^^^^\n",
      "  File \"C:\\Users\\USER\\AppData\\Local\\Temp\\ipykernel_3568\\24772058.py\", line 19, in login_ok\n",
      "    db_disconn(conn, cur)\n",
      "TypeError: db_disconn() takes 0 positional arguments but 2 were given\n",
      "127.0.0.1 - - [09/Jul/2024 16:39:32] \"POST /login_ok HTTP/1.1\" 500 -\n"
     ]
    },
    {
     "name": "stdout",
     "output_type": "stream",
     "text": [
      "DB 연결 성공\n",
      "select code, name, age from member_tbl where id_val='test' and pw_val='1234'\n",
      "데이터 검색 완료\n"
     ]
    }
   ],
   "source": [
    "from flask import Flask, render_template, request\n",
    "import DB_Manage as dm # 자: 모듈화한 파일 불러오기\n",
    "from DB_Manage import db_conn, db_disconn, db_search # 자: 혹은 이렇게 가져올 수 있다\n",
    "\n",
    "\n",
    "app = Flask(__name__)\n",
    "\n",
    "@app.route(\"/\")\n",
    "def home():\n",
    "    return render_template(\"login_post.html\") #자:post방식으로 login했던 페이지\n",
    "\n",
    "@app.route(\"/login_ok\", methods=[\"POST\"])\n",
    "def login_ok():\n",
    "    id_val = request.form[\"id\"]\n",
    "    pw_val = request.form[\"pw\"]\n",
    "\n",
    "    conn, cur = db_conn()\n",
    "    rs = db_search(cur, id_val, pw_val)\n",
    "    db_disconn(conn, cur)\n",
    "\n",
    "    print(rs)\n",
    "    print(id_val, pw_val)\n",
    "\n",
    "    if rs === None :\n",
    "        return render_template(\"login_post.html\")\n",
    "    else:\n",
    "        return f\"코드 : {rs[0]}, 이름 : {rs[1]}, 나이 : {rs[2]}\"\n",
    "\n",
    "if __name__ == \"__main__\":\n",
    "    app.run(host=\"\", port=9000)\n"
   ]
  },
  {
   "cell_type": "code",
   "execution_count": null,
   "id": "6980fc79-40af-4030-8cbc-f18eeb3542d3",
   "metadata": {},
   "outputs": [],
   "source": []
  },
  {
   "cell_type": "markdown",
   "id": "0cd4bb7e-3990-4a78-abfb-d968020c5b6c",
   "metadata": {},
   "source": []
  }
 ],
 "metadata": {
  "kernelspec": {
   "display_name": "Python 3 (ipykernel)",
   "language": "python",
   "name": "python3"
  },
  "language_info": {
   "codemirror_mode": {
    "name": "ipython",
    "version": 3
   },
   "file_extension": ".py",
   "mimetype": "text/x-python",
   "name": "python",
   "nbconvert_exporter": "python",
   "pygments_lexer": "ipython3",
   "version": "3.11.7"
  }
 },
 "nbformat": 4,
 "nbformat_minor": 5
}
